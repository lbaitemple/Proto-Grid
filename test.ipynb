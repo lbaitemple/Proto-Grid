{
 "cells": [
  {
   "cell_type": "code",
   "execution_count": 1,
   "id": "3d39b073-10c5-4af6-875b-504e42bdcb95",
   "metadata": {
    "tags": []
   },
   "outputs": [
    {
     "name": "stdout",
     "output_type": "stream",
     "text": [
      "/dev/cu.usbserial-110\n"
     ]
    }
   ],
   "source": [
    "from serial.tools import list_ports\n",
    "import re\n",
    "enmu_ports = enumerate(list_ports.comports())\n",
    "port = []\n",
    "\n",
    "for n, (p, descriptor, hid) in enmu_ports:\n",
    "    #print(p, descriptor, hid)\n",
    "    #print(p)\n",
    "    if re.findall(r\"Ser\", descriptor):\n",
    "        print(p)\n",
    "        port.append(p)"
   ]
  },
  {
   "cell_type": "code",
   "execution_count": 2,
   "id": "0fed9305-8c76-43bd-85de-52537add707e",
   "metadata": {
    "tags": []
   },
   "outputs": [],
   "source": [
    "cmdList = [\"*ID?\", \"getCommands\", \"init\", \"runRange\", \\\n",
    "           \"setVolts\", \"setLoad\", \"setMot\", \"setKp\", \"setKi\", \"setKd\", \\\n",
    "                   \"trackOn\", \"trackOff\", \"autoOn\", \"autoOff\",\\\n",
    "                   \"motOn\", \"motOff\", \"getVal\", \"getKW\", \"getCarbon\", \"getAll\", \"getLoad\",\\\n",
    "                   \"off\" ]"
   ]
  },
  {
   "cell_type": "code",
   "execution_count": 3,
   "id": "6fe0d52a-a5ae-49bc-9893-f9b86fe425dd",
   "metadata": {
    "tags": []
   },
   "outputs": [],
   "source": [
    "m=port[0]"
   ]
  },
  {
   "cell_type": "code",
   "execution_count": 4,
   "id": "6e321a35-7516-41bc-bca8-9c20584fdc17",
   "metadata": {
    "tags": []
   },
   "outputs": [
    {
     "name": "stdout",
     "output_type": "stream",
     "text": [
      "/dev/cu.usbserial-110\n",
      "['/dev/cu.usbserial-110']\n",
      "Connected to /dev/cu.usbserial-110 at 9600 baud rate.\n",
      "Sent command: *ID?\n",
      "Received response: KW<1\n",
      "Disconnected from /dev/cu.usbserial-110.\n",
      "Connected to /dev/cu.usbserial-110 at 9600 baud rate.\n",
      "Sent command: *ID?\n",
      "Received response: KW<1\n"
     ]
    }
   ],
   "source": [
    "from serialcom import SerialCommander\n",
    "import time\n",
    "\n",
    "serial_commander = SerialCommander(m, 9600)  # Replace with your serial port and baud rate\n",
    "serial_commander.connect()\n",
    "time.sleep(2)\n",
    "serial_commander.send_command(\"*ID?\")\n",
    "response = serial_commander.read_response()\n"
   ]
  },
  {
   "cell_type": "code",
   "execution_count": 5,
   "id": "dc52afe9-d009-48a1-9d93-3a6ea672c5aa",
   "metadata": {
    "tags": []
   },
   "outputs": [
    {
     "name": "stdout",
     "output_type": "stream",
     "text": [
      "Sent command: *ID?\n",
      "Received response: getCarbon<1\n",
      "getCarbon<1\n",
      "Sent command: getCommands\n",
      "Received response: off\n",
      "off\n",
      "Sent command: init\n",
      "Received response: eoc\n",
      "eoc\n",
      "Sent command: runRange\n",
      "Received response: KW<1\n",
      "KW<1\n",
      "Sent command: setVolts\n",
      "Received response: getCarbon<1\n",
      "getCarbon<1\n",
      "Sent command: setLoad\n",
      "Received response: off\n",
      "off\n",
      "Sent command: setMot\n",
      "Received response: eoc\n",
      "eoc\n",
      "Sent command: setKp\n",
      "Received response: KW<1\n",
      "KW<1\n",
      "Sent command: setKi\n",
      "Received response: getCarbon<1\n",
      "getCarbon<1\n",
      "Sent command: setKd\n",
      "Received response: off\n",
      "off\n",
      "Sent command: trackOn\n",
      "Received response: eoc\n",
      "eoc\n",
      "Sent command: trackOff\n",
      "Received response: KW<1\n",
      "KW<1\n",
      "Sent command: autoOn\n",
      "Received response: getCarbon<1\n",
      "getCarbon<1\n",
      "Sent command: autoOff\n",
      "Received response: off\n",
      "off\n",
      "Sent command: motOn\n",
      "Received response: eoc\n",
      "eoc\n",
      "Sent command: motOff\n",
      "Received response: KW<1\n",
      "KW<1\n",
      "Sent command: getVal\n",
      "Received response: getCarbon<1\n",
      "getCarbon<1\n",
      "Sent command: getKW\n",
      "Received response: off\n",
      "off\n",
      "Sent command: getCarbon\n",
      "Received response: eoc\n",
      "eoc\n",
      "Sent command: getAll\n",
      "Received response: KW<1\n",
      "KW<1\n",
      "Sent command: getLoad\n",
      "Received response: getCarbon<1\n",
      "getCarbon<1\n",
      "Sent command: off\n",
      "Received response: off\n",
      "off\n"
     ]
    }
   ],
   "source": [
    "for cmd in cmdList:\n",
    "    serial_commander.send_command(cmd)\n",
    "    response = serial_commander.read_response()   \n",
    "    print(response)"
   ]
  },
  {
   "cell_type": "code",
   "execution_count": 6,
   "id": "84bbd6c4-b9d0-417a-8723-9f075153e461",
   "metadata": {
    "tags": []
   },
   "outputs": [
    {
     "name": "stdout",
     "output_type": "stream",
     "text": [
      "Sent command: off\n",
      "Received response: eoc\n",
      "eoc\n"
     ]
    }
   ],
   "source": [
    "serial_commander.send_command(\"off\")\n",
    "response = serial_commander.read_response()   \n",
    "print(response)"
   ]
  },
  {
   "cell_type": "code",
   "execution_count": 7,
   "id": "46947bcc-e0dd-45ea-9ad8-e876b00a413c",
   "metadata": {
    "tags": []
   },
   "outputs": [
    {
     "name": "stdout",
     "output_type": "stream",
     "text": [
      "Disconnected from /dev/cu.usbserial-110.\n"
     ]
    }
   ],
   "source": [
    "serial_commander.disconnect()"
   ]
  },
  {
   "cell_type": "code",
   "execution_count": null,
   "id": "a6276714-1d9c-4129-90e1-60849a6e4e3a",
   "metadata": {},
   "outputs": [],
   "source": []
  }
 ],
 "metadata": {
  "kernelspec": {
   "display_name": "Python 3 (ipykernel)",
   "language": "python",
   "name": "python3"
  },
  "language_info": {
   "codemirror_mode": {
    "name": "ipython",
    "version": 3
   },
   "file_extension": ".py",
   "mimetype": "text/x-python",
   "name": "python",
   "nbconvert_exporter": "python",
   "pygments_lexer": "ipython3",
   "version": "3.8.16"
  }
 },
 "nbformat": 4,
 "nbformat_minor": 5
}
