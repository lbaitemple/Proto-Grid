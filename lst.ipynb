{
 "cells": [
  {
   "cell_type": "code",
   "execution_count": 1,
   "id": "e308f641-f145-47e9-a0c0-c0ba8e34624f",
   "metadata": {},
   "outputs": [
    {
     "name": "stdout",
     "output_type": "stream",
     "text": [
      "/dev/ttyUSB0 USB2.0-Ser! USB VID:PID=1A86:7523 LOCATION=1-1.2\n",
      "/dev/ttyUSB0\n",
      "/dev/ttyAMA0 ttyAMA0 fe201000.serial\n",
      "/dev/ttyUSB0\n"
     ]
    }
   ],
   "source": [
    "from serial.tools import list_ports\n",
    "import re\n",
    "enmu_ports = enumerate(list_ports.comports())\n",
    "port = []\n",
    "\n",
    "for n, (p, descriptor, hid) in enmu_ports:\n",
    "    print(p, descriptor, hid)\n",
    "    #print(p)\n",
    "    if re.findall(r\"Ser\", descriptor):\n",
    "        print(p)\n",
    "        port.append(p)\n",
    "\n",
    "m=port[0]\n",
    "print(m)"
   ]
  },
  {
   "cell_type": "code",
   "execution_count": null,
   "id": "19a9a061-a1f5-4542-a87a-46b4c3718728",
   "metadata": {},
   "outputs": [],
   "source": []
  },
  {
   "cell_type": "code",
   "execution_count": 2,
   "id": "32ef7828-b1e0-4daf-855b-9d43333cf479",
   "metadata": {},
   "outputs": [
    {
     "name": "stdout",
     "output_type": "stream",
     "text": [
      "/dev/ttyUSB0\n",
      "['/dev/ttyUSB0']\n",
      "super Connected to /dev/ttyUSB0 at 9600 baud rate.\n",
      "found:  houseload\n",
      "commands \n",
      "Disconnected from /dev/ttyUSB0.\n",
      "super Connected to /dev/ttyUSB0 at 9600 baud rate.\n",
      "autoOn\n",
      "autoOff\n",
      "lightAll\n",
      "lightsOut\n",
      "light0\n",
      "light1\n",
      "light2\n",
      "light3\n",
      "blinkHouses\n",
      "chaseOn\n",
      "chaseOff\n",
      "setLimits>4\n",
      "getAll<7\n",
      "getLoads<4\n",
      "getLoadVal<1\n",
      "getKW<1\n",
      "getCarbon<1\n",
      "off\n",
      "eoc\n"
     ]
    }
   ],
   "source": [
    "from house import House\n",
    "house = House(m, 9600)"
   ]
  },
  {
   "cell_type": "code",
   "execution_count": 3,
   "id": "6bfa52e8-7268-4fd2-a636-8e48f8e9e98d",
   "metadata": {},
   "outputs": [
    {
     "name": "stdout",
     "output_type": "stream",
     "text": [
      "Kilowatt capacity:  -800\n",
      "Current KW level:  -600\n",
      "Load allocated:  -600\n",
      "Difference between allocated and used KW:  0\n",
      "Carbon value:  0\n",
      "Renewability:  -1\n",
      "Current Power:  120\n",
      "KW:  -600.00\n"
     ]
    }
   ],
   "source": [
    "house.call(\"getAll\")\n",
    "house.call(\"getKW\")"
   ]
  },
  {
   "cell_type": "code",
   "execution_count": 5,
   "id": "41941fe4-8e0a-45a4-8afd-ef6392ee25e2",
   "metadata": {},
   "outputs": [
    {
     "name": "stdout",
     "output_type": "stream",
     "text": [
      "None\n"
     ]
    }
   ],
   "source": [
    "print(house.call('lightsOut'))"
   ]
  },
  {
   "cell_type": "code",
   "execution_count": 6,
   "id": "f6b50f89-f8cf-4d23-bff5-792c71598dec",
   "metadata": {},
   "outputs": [
    {
     "name": "stdout",
     "output_type": "stream",
     "text": [
      "\n"
     ]
    }
   ],
   "source": [
    "print(house.read_response())"
   ]
  },
  {
   "cell_type": "code",
   "execution_count": null,
   "id": "57f72358-88bb-4944-9d45-74970aa1f86e",
   "metadata": {},
   "outputs": [],
   "source": []
  }
 ],
 "metadata": {
  "kernelspec": {
   "display_name": "Python 3 (ipykernel)",
   "language": "python",
   "name": "python3"
  },
  "language_info": {
   "codemirror_mode": {
    "name": "ipython",
    "version": 3
   },
   "file_extension": ".py",
   "mimetype": "text/x-python",
   "name": "python",
   "nbconvert_exporter": "python",
   "pygments_lexer": "ipython3",
   "version": "3.10.12"
  }
 },
 "nbformat": 4,
 "nbformat_minor": 5
}
