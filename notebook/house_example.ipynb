{
 "cells": [
  {
   "cell_type": "markdown",
   "id": "1c8168c1-86cb-4fc6-b424-f09a1f3a712d",
   "metadata": {},
   "source": [
    "## installation for the first time for all python packages\n"
   ]
  },
  {
   "cell_type": "code",
   "execution_count": null,
   "id": "00d7fea8-2319-493e-8354-f0ae742a6a09",
   "metadata": {},
   "outputs": [],
   "source": [
    "%%bash\n",
    "sudo pip install jupyterplot\n",
    "sudo pip install git+https://github.com/lbaitemple/Proto-Grid.git@dev\n"
   ]
  },
  {
   "cell_type": "code",
   "execution_count": 1,
   "id": "2b9b94d2-c68b-4205-a1ab-9a2cefba910d",
   "metadata": {
    "tags": []
   },
   "outputs": [
    {
     "name": "stdout",
     "output_type": "stream",
     "text": [
      "/dev/ttyUSB1\n",
      "['/dev/ttyUSB1']\n",
      "found:  houseload\n",
      "commands \n",
      "Disconnected from /dev/ttyUSB1.\n",
      "/dev/ttyUSB1\n",
      "houseload\n",
      "/dev/ttyUSB1\n",
      "['/dev/ttyUSB1']\n",
      "found:  houseload\n",
      "commands \n",
      "Disconnected from /dev/ttyUSB1.\n",
      "autoOn\n",
      "autoOff\n",
      "lightAll\n",
      "lightsOut\n",
      "light0\n",
      "light1\n",
      "light2\n",
      "light3\n",
      "blinkHouses\n",
      "chaseOn\n",
      "chaseOff\n",
      "setLimits>4\n",
      "getAll<7\n",
      "getLoads<4\n",
      "getLoadVal<1\n",
      "getKW<1\n",
      "getCarbon<1\n",
      "off\n",
      "eoc\n"
     ]
    }
   ],
   "source": [
    "from revidyne import AllDevice\n",
    "\n",
    "a=AllDevice()\n",
    "mm=a.getAllDevice()"
   ]
  },
  {
   "cell_type": "code",
   "execution_count": 2,
   "id": "c2bfb0b0-6c5a-4d9a-94c9-b553ba1213b8",
   "metadata": {},
   "outputs": [],
   "source": [
    "house=mm['houseload'].getDevice()"
   ]
  },
  {
   "cell_type": "code",
   "execution_count": 3,
   "id": "9c3f2bea-be88-4e3c-92e8-a03f7ad3b25a",
   "metadata": {},
   "outputs": [
    {
     "data": {
      "application/vnd.jupyter.widget-view+json": {
       "model_id": "3b2faaf508f5453ea3be8c7e32c2d9f3",
       "version_major": 2,
       "version_minor": 0
      },
      "text/plain": [
       "HBox(children=(IntSlider(value=0, description='h1', max=255, orientation='vertical'), IntSlider(value=0, descr…"
      ]
     },
     "metadata": {},
     "output_type": "display_data"
    }
   ],
   "source": [
    "import ipywidgets.widgets as widgets\n",
    "from IPython.display import display\n",
    "\n",
    "# create two sliders with range [-1.0, 1.0]\n",
    "h1_slider = widgets.IntSlider(description='h1', min=0, max=255, step=1, orientation='vertical')\n",
    "h2_slider = widgets.IntSlider(description='h2', min=0, max=255, step=1, orientation='vertical')\n",
    "h3_slider = widgets.IntSlider(description='h3', min=0, max=255, step=1, orientation='vertical')\n",
    "h4_slider = widgets.IntSlider(description='h4', min=0, max=255, step=1, orientation='vertical')\n",
    "\n",
    "# create a horizontal box container to place the sliders next to each other\n",
    "slider_container = widgets.HBox([h1_slider, h2_slider, h3_slider, h4_slider])\n",
    "\n",
    "# display the container in this cell's output\n",
    "display(slider_container)\n",
    "\n",
    "import traitlets\n",
    "h1_link = traitlets.link((h1_slider, 'value'), (house, 'h1'))\n",
    "h2_link = traitlets.link((h2_slider, 'value'), (house, 'h2'))\n",
    "h3_link = traitlets.link((h3_slider, 'value'), (house, 'h3'))\n",
    "h4_link = traitlets.link((h4_slider, 'value'), (house, 'h4'))\n",
    "\n",
    "\n"
   ]
  },
  {
   "cell_type": "code",
   "execution_count": null,
   "id": "d39825d5-1b98-41f6-af16-52d6684f43eb",
   "metadata": {},
   "outputs": [],
   "source": []
  }
 ],
 "metadata": {
  "kernelspec": {
   "display_name": "Python 3 (ipykernel)",
   "language": "python",
   "name": "python3"
  },
  "language_info": {
   "codemirror_mode": {
    "name": "ipython",
    "version": 3
   },
   "file_extension": ".py",
   "mimetype": "text/x-python",
   "name": "python",
   "nbconvert_exporter": "python",
   "pygments_lexer": "ipython3",
   "version": "3.10.12"
  }
 },
 "nbformat": 4,
 "nbformat_minor": 5
}
