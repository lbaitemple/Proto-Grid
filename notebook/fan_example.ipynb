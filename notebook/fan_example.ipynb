{
 "cells": [
  {
   "cell_type": "markdown",
   "id": "1c8168c1-86cb-4fc6-b424-f09a1f3a712d",
   "metadata": {},
   "source": [
    "## installation for the first time for all python packages\n"
   ]
  },
  {
   "cell_type": "code",
   "execution_count": null,
   "id": "00d7fea8-2319-493e-8354-f0ae742a6a09",
   "metadata": {},
   "outputs": [],
   "source": [
    "%%bash\n",
    "sudo pip install jupyterplot\n",
    "sudo pip install git+https://github.com/lbaitemple/Proto-Grid.git@dev\n"
   ]
  },
  {
   "cell_type": "code",
   "execution_count": 1,
   "id": "2b9b94d2-c68b-4205-a1ab-9a2cefba910d",
   "metadata": {
    "tags": []
   },
   "outputs": [
    {
     "name": "stdout",
     "output_type": "stream",
     "text": [
      "/dev/ttyUSB2\n",
      "/dev/ttyUSB0\n",
      "['/dev/ttyUSB2', '/dev/ttyUSB0']\n",
      "Disconnected from /dev/ttyUSB2.\n",
      "Disconnected from /dev/ttyUSB0.\n",
      "/dev/ttyUSB2\n",
      "/dev/ttyUSB0\n",
      "windturbine\n",
      "/dev/ttyUSB2\n",
      "/dev/ttyUSB0\n",
      "['/dev/ttyUSB2', '/dev/ttyUSB0']\n",
      "Disconnected from /dev/ttyUSB2.\n",
      "Disconnected from /dev/ttyUSB0.\n",
      "runScan\n",
      "trackOn\n",
      "trackOff\n",
      "goHome\n",
      "goL\n",
      "goF\n",
      "goR\n",
      "moveCW>1\n",
      "moveCCW>1\n",
      "goMax\n",
      "lookCW\n",
      "lookCCW\n",
      "setLoad>1\n",
      "setRange>1\n",
      "setDelay>1\n",
      "setSteps>1\n",
      "getMax<1\n",
      "getVal<1\n",
      "getKW<1\n",
      "getAll<7\n",
      "getCarbon<1\n",
      "getPos<1\n",
      "on\n",
      "off\n",
      "eoc\n",
      "fan\n",
      "fanOn\n",
      "fanOff\n",
      "autoOn\n",
      "autoOff\n",
      "setSpeed>1\n",
      "getKW<1\n",
      "getCarbon<1\n",
      "getAll<7\n",
      "off\n",
      "eoc\n"
     ]
    }
   ],
   "source": [
    "from revidyne import AllDevice\n",
    "\n",
    "a=AllDevice()\n",
    "mm=a.getAllDevice()"
   ]
  },
  {
   "cell_type": "code",
   "execution_count": 2,
   "id": "c2bfb0b0-6c5a-4d9a-94c9-b553ba1213b8",
   "metadata": {},
   "outputs": [],
   "source": [
    "fan=mm['fan'].getDevice()"
   ]
  },
  {
   "cell_type": "code",
   "execution_count": 3,
   "id": "9c3f2bea-be88-4e3c-92e8-a03f7ad3b25a",
   "metadata": {},
   "outputs": [
    {
     "data": {
      "application/vnd.jupyter.widget-view+json": {
       "model_id": "f39c1eb39f4f48c5afc910c4caf4300b",
       "version_major": 2,
       "version_minor": 0
      },
      "text/plain": [
       "HBox(children=(IntSlider(value=0, description='fanspeed', max=255, orientation='vertical'),))"
      ]
     },
     "metadata": {},
     "output_type": "display_data"
    }
   ],
   "source": [
    "import ipywidgets.widgets as widgets\n",
    "from IPython.display import display\n",
    "\n",
    "# create two sliders with range [-1.0, 1.0]\n",
    "fan_slider = widgets.IntSlider(description='fanspeed', min=0, max=255, step=1, orientation='vertical')\n",
    "\n",
    "# create a horizontal box container to place the sliders next to each other\n",
    "slider_container = widgets.HBox([fan_slider])\n",
    "\n",
    "# display the container in this cell's output\n",
    "display(slider_container)\n",
    "\n",
    "import traitlets\n",
    "left_link = traitlets.link((fan_slider, 'value'), (fan, 'fanspeed'))\n"
   ]
  },
  {
   "cell_type": "code",
   "execution_count": null,
   "id": "65935915-47c0-4a70-a055-523a8f82bc1e",
   "metadata": {},
   "outputs": [],
   "source": []
  }
 ],
 "metadata": {
  "kernelspec": {
   "display_name": "Python 3 (ipykernel)",
   "language": "python",
   "name": "python3"
  },
  "language_info": {
   "codemirror_mode": {
    "name": "ipython",
    "version": 3
   },
   "file_extension": ".py",
   "mimetype": "text/x-python",
   "name": "python",
   "nbconvert_exporter": "python",
   "pygments_lexer": "ipython3",
   "version": "3.10.12"
  }
 },
 "nbformat": 4,
 "nbformat_minor": 5
}
