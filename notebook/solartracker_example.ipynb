{
 "cells": [
  {
   "cell_type": "markdown",
   "id": "1c8168c1-86cb-4fc6-b424-f09a1f3a712d",
   "metadata": {},
   "source": [
    "## installation for the first time for all python packages\n"
   ]
  },
  {
   "cell_type": "code",
   "execution_count": null,
   "id": "00d7fea8-2319-493e-8354-f0ae742a6a09",
   "metadata": {},
   "outputs": [],
   "source": [
    "%%bash\n",
    "sudo pip install jupyterplot\n",
    "sudo pip install git+https://github.com/lbaitemple/Proto-Grid.git@dev\n"
   ]
  },
  {
   "cell_type": "code",
   "execution_count": null,
   "id": "2b9b94d2-c68b-4205-a1ab-9a2cefba910d",
   "metadata": {
    "tags": []
   },
   "outputs": [],
   "source": [
    "from revidyne import AllDevice\n",
    "\n",
    "a=AllDevice()\n",
    "mm=a.getAllDevice()"
   ]
  },
  {
   "cell_type": "code",
   "execution_count": null,
   "id": "c2bfb0b0-6c5a-4d9a-94c9-b553ba1213b8",
   "metadata": {},
   "outputs": [],
   "source": [
    "st=mm['solartracker'].getDevice()"
   ]
  },
  {
   "cell_type": "code",
   "execution_count": null,
   "id": "009b5d36-7fbf-4eeb-aa27-eb40ace9cb4a",
   "metadata": {},
   "outputs": [],
   "source": [
    "st.cmds"
   ]
  },
  {
   "cell_type": "code",
   "execution_count": null,
   "id": "9c3f2bea-be88-4e3c-92e8-a03f7ad3b25a",
   "metadata": {},
   "outputs": [],
   "source": [
    "import ipywidgets.widgets as widgets\n",
    "from IPython.display import display\n",
    "\n",
    "# create two sliders with range [-1.0, 1.0]\n",
    "st_cslider = widgets.IntSlider(description='CW degree', min=0, max=255, step=1, orientation='vertical')\n",
    "st_ccslider = widgets.IntSlider(description='CCW degree', min=0, max=255, step=1, orientation='vertical')\n",
    "\n",
    "# create a horizontal box container to place the sliders next to each other\n",
    "slider_container = widgets.HBox([st_cslider, st_ccslider])\n",
    "\n",
    "# display the container in this cell's output\n",
    "display(slider_container)\n",
    "\n",
    "import traitlets\n",
    "#from revidyne import windturbine\n",
    "connect_link = traitlets.link((st_cslider, 'value'), (st, 'cdeg'))\n",
    "connect_cclink = traitlets.link((st_ccslider, 'value'), (st, 'ccdeg'))"
   ]
  },
  {
   "cell_type": "code",
   "execution_count": null,
   "id": "a4d27bde-d099-4eae-b6de-fcf2c979daea",
   "metadata": {},
   "outputs": [],
   "source": []
  },
  {
   "cell_type": "code",
   "execution_count": null,
   "id": "cdee7d1d-ada6-4215-8946-e771a55dbe42",
   "metadata": {},
   "outputs": [],
   "source": [
    "st = mm['solartracker'].getDevice()"
   ]
  },
  {
   "cell_type": "code",
   "execution_count": null,
   "id": "ac141b87-5b00-4a32-82d0-c5cbba7813e9",
   "metadata": {},
   "outputs": [],
   "source": [
    "from jupyterplot import ProgressPlot\n",
    "import numpy as np\n",
    "\n",
    "pp = ProgressPlot(line_names=[\"solar\", \"carbon\", \"val\"])\n",
    "i=0\n",
    "while True:\n",
    "    try:\n",
    "        a=st.call(\"getKW\")\n",
    "        b=st.call('getCarbon')\n",
    "        c=st.call('getVal')\n",
    "    #    pp.update(float(a[0])\n",
    "        pp.update([[float(a[0]), float(b[0]), float(c[0])]])\n",
    "        i=i+1\n",
    "    except KeyboardInterrupt:\n",
    "        print(\"keyboard interrupt\")\n",
    "        break\n",
    "        \n",
    "pp.finalize()"
   ]
  },
  {
   "cell_type": "code",
   "execution_count": null,
   "id": "354229f9-d083-4353-85b9-13714f2089f3",
   "metadata": {},
   "outputs": [],
   "source": []
  }
 ],
 "metadata": {
  "kernelspec": {
   "display_name": "Python 3 (ipykernel)",
   "language": "python",
   "name": "python3"
  },
  "language_info": {
   "codemirror_mode": {
    "name": "ipython",
    "version": 3
   },
   "file_extension": ".py",
   "mimetype": "text/x-python",
   "name": "python",
   "nbconvert_exporter": "python",
   "pygments_lexer": "ipython3",
   "version": "3.10.12"
  }
 },
 "nbformat": 4,
 "nbformat_minor": 5
}
