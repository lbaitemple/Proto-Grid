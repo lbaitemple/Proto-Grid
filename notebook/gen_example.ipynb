{
 "cells": [
  {
   "cell_type": "markdown",
   "id": "1c8168c1-86cb-4fc6-b424-f09a1f3a712d",
   "metadata": {},
   "source": [
    "## installation for the first time for all python packages\n"
   ]
  },
  {
   "cell_type": "code",
   "execution_count": null,
   "id": "00d7fea8-2319-493e-8354-f0ae742a6a09",
   "metadata": {},
   "outputs": [],
   "source": [
    "%%bash\n",
    "sudo pip install jupyterplot\n",
    "sudo pip install git+https://github.com/lbaitemple/Proto-Grid.git@dev\n"
   ]
  },
  {
   "cell_type": "code",
   "execution_count": 1,
   "id": "2b9b94d2-c68b-4205-a1ab-9a2cefba910d",
   "metadata": {
    "tags": []
   },
   "outputs": [
    {
     "name": "stdout",
     "output_type": "stream",
     "text": [
      "/dev/cu.usbserial-10\n",
      "['/dev/cu.usbserial-10']\n",
      "Disconnected from /dev/cu.usbserial-10.\n",
      "/dev/cu.usbserial-10\n",
      "generator\n",
      "/dev/cu.usbserial-10\n",
      "['/dev/cu.usbserial-10']\n",
      "Disconnected from /dev/cu.usbserial-10.\n",
      "runRange\n",
      "setVolts>1\n",
      "setLoad>1\n",
      "setMot>1\n",
      "setKp>1\n",
      "setKi>1\n",
      "setKd>1\n",
      "trackOn\n",
      "trackOff\n",
      "autoOn\n",
      "autoOff\n",
      "motOn\n",
      "motOff\n",
      "getVal<1\n",
      "getKW<1\n",
      "getCarbon<1\n",
      "getAll<7\n",
      "getLoad<1\n",
      "off\n",
      "eoc\n"
     ]
    }
   ],
   "source": [
    "from revidyne import AllDevice\n",
    "\n",
    "a=AllDevice()\n",
    "mm=a.getAllDevice()"
   ]
  },
  {
   "cell_type": "code",
   "execution_count": 2,
   "id": "c2bfb0b0-6c5a-4d9a-94c9-b553ba1213b8",
   "metadata": {},
   "outputs": [],
   "source": [
    "gen=mm['generator'].getDevice()"
   ]
  },
  {
   "cell_type": "code",
   "execution_count": 10,
   "id": "9c3f2bea-be88-4e3c-92e8-a03f7ad3b25a",
   "metadata": {},
   "outputs": [
    {
     "data": {
      "application/vnd.jupyter.widget-view+json": {
       "model_id": "8ca4e88ff706445191095a0360152de7",
       "version_major": 2,
       "version_minor": 0
      },
      "text/plain": [
       "HBox(children=(IntSlider(value=0, description='load', max=1000, orientation='vertical'),))"
      ]
     },
     "metadata": {},
     "output_type": "display_data"
    }
   ],
   "source": [
    "import ipywidgets.widgets as widgets\n",
    "from IPython.display import display\n",
    "\n",
    "# create two sliders with range [-1.0, 1.0]\n",
    "gen_slider = widgets.IntSlider(description='load', min=0, max=1000, step=1, orientation='vertical')\n",
    "\n",
    "# create a horizontal box container to place the sliders next to each other\n",
    "slider_container = widgets.HBox([gen_slider])\n",
    "\n",
    "# display the container in this cell's output\n",
    "display(slider_container)\n",
    "\n",
    "import traitlets\n",
    "left_link = traitlets.link((gen_slider, 'value'), (gen, 'load'))\n"
   ]
  },
  {
   "cell_type": "code",
   "execution_count": 13,
   "id": "a4d27bde-d099-4eae-b6de-fcf2c979daea",
   "metadata": {},
   "outputs": [],
   "source": [
    "gen.call('trackOff')"
   ]
  },
  {
   "cell_type": "code",
   "execution_count": 17,
   "id": "354229f9-d083-4353-85b9-13714f2089f3",
   "metadata": {},
   "outputs": [
    {
     "name": "stdout",
     "output_type": "stream",
     "text": [
      "Kilowatt capacity:  1000\n",
      "Current KW level:  2.40\n",
      "Load allocated:  100\n",
      "Difference between allocated and used KW:  0.00\n",
      "Carbon value:  0.00\n",
      "Renewability:  0\n",
      "Current Power:  3.33\n"
     ]
    },
    {
     "data": {
      "text/plain": [
       "['1000', '2.40', '100', '0.00', '0.00', '0', '3.33']"
      ]
     },
     "execution_count": 17,
     "metadata": {},
     "output_type": "execute_result"
    }
   ],
   "source": [
    "gen.call('getAll')"
   ]
  },
  {
   "cell_type": "code",
   "execution_count": 16,
   "id": "162ac62f-50fd-452a-b0c0-fdb6be9ec703",
   "metadata": {
    "tags": []
   },
   "outputs": [],
   "source": [
    "gen.setLoad(100)"
   ]
  },
  {
   "cell_type": "code",
   "execution_count": null,
   "id": "0867d29f-8027-40db-8c88-6c0febf12569",
   "metadata": {},
   "outputs": [],
   "source": []
  }
 ],
 "metadata": {
  "kernelspec": {
   "display_name": "Python 3 (ipykernel)",
   "language": "python",
   "name": "python3"
  },
  "language_info": {
   "codemirror_mode": {
    "name": "ipython",
    "version": 3
   },
   "file_extension": ".py",
   "mimetype": "text/x-python",
   "name": "python",
   "nbconvert_exporter": "python",
   "pygments_lexer": "ipython3",
   "version": "3.8.16"
  }
 },
 "nbformat": 4,
 "nbformat_minor": 5
}
