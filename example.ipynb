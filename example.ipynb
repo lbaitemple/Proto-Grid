{
 "cells": [
  {
   "cell_type": "markdown",
   "id": "1c8168c1-86cb-4fc6-b424-f09a1f3a712d",
   "metadata": {},
   "source": [
    "## installation for the first time for all python packages\n"
   ]
  },
  {
   "cell_type": "code",
   "execution_count": null,
   "id": "00d7fea8-2319-493e-8354-f0ae742a6a09",
   "metadata": {},
   "outputs": [],
   "source": [
    "%%bash\n",
    "sudo pip install ipywidgets matplotlib jupyterplot\n"
    "sudo pip install git+https://github.com/lbaitemple/Proto-Grid.git@dev\n"
   ]
  },
  {
   "cell_type": "code",
   "execution_count": null,
   "id": "2b9b94d2-c68b-4205-a1ab-9a2cefba910d",
   "metadata": {
    "tags": []
   },
   "outputs": [],
   "source": [
    "from revidyne import AllDevice\n",
    "\n",
    "a=AllDevice()\n",
    "mm=a.getAllDevice()"
   ]
  },
  {
   "cell_type": "code",
   "execution_count": null,
   "id": "c2bfb0b0-6c5a-4d9a-94c9-b553ba1213b8",
   "metadata": {},
   "outputs": [],
   "source": [
    "fan=mm['fan'].getDevice()"
   ]
  },
  {
   "cell_type": "code",
   "execution_count": null,
   "id": "9c3f2bea-be88-4e3c-92e8-a03f7ad3b25a",
   "metadata": {},
   "outputs": [],
   "source": [
    "fan.cmds"
   ]
  },
  {
   "cell_type": "code",
   "execution_count": null,
   "id": "428cb089-7358-4110-8d79-8c9b4d8bb4b4",
   "metadata": {},
   "outputs": [],
   "source": [
    "fan.call('fanOff')"
   ]
  },
  {
   "cell_type": "code",
   "execution_count": null,
   "id": "0bed0e17-8e7b-4228-beb5-72dec7e0a7a5",
   "metadata": {},
   "outputs": [],
   "source": [
    "wt = mm['windturbine'].getDevice()"
   ]
  },
  {
   "cell_type": "code",
   "execution_count": null,
   "id": "8df56470-9168-4f18-91ab-73fc6bf2e411",
   "metadata": {},
   "outputs": [],
   "source": [
    "wt.cmds"
   ]
  },
  {
   "cell_type": "code",
   "execution_count": null,
   "id": "00dc6a19-009e-46ae-b483-597ac92a66b3",
   "metadata": {},
   "outputs": [],
   "source": [
    "wt.call('trackOn')"
   ]
  },
  {
   "cell_type": "code",
   "execution_count": null,
   "id": "1f5aca7f-484e-4ef3-9fbe-e18bf43d6c35",
   "metadata": {},
   "outputs": [],
   "source": [
    "from jupyterplot import ProgressPlot\n",
    "import numpy as np\n",
    "\n",
    "pp = ProgressPlot(line_names=[\"solar\", \"carbon\", \"val\"])\n",
    "i=0\n",
    "while True:\n",
    "    try:\n",
    "        a=wt.call(\"getKW\")\n",
    "        b=wt.call('getCarbon')\n",
    "        c=wt.call('getVal')\n",
    "    #    pp.update(float(a[0])\n",
    "        pp.update([[float(a[0]), float(b[0]), float(c[0])]])\n",
    "        i=i+1\n",
    "    except KeyboardInterrupt:\n",
    "        print(\"keyboard interrupt\")\n",
    "        break\n",
    "        \n",
    "pp.finalize()"
   ]
  },
  {
   "cell_type": "code",
   "execution_count": null,
   "id": "cdee7d1d-ada6-4215-8946-e771a55dbe42",
   "metadata": {},
   "outputs": [],
   "source": [
    "st = mm['solartracker'].getDevice()"
   ]
  },
  {
   "cell_type": "code",
   "execution_count": null,
   "id": "ac141b87-5b00-4a32-82d0-c5cbba7813e9",
   "metadata": {},
   "outputs": [],
   "source": [
    "from jupyterplot import ProgressPlot\n",
    "import numpy as np\n",
    "\n",
    "pp = ProgressPlot(line_names=[\"solar\", \"carbon\", \"val\"])\n",
    "i=0\n",
    "while True:\n",
    "    try:\n",
    "        a=st.call(\"getKW\")\n",
    "        b=st.call('getCarbon')\n",
    "        c=st.call('getVal')\n",
    "    #    pp.update(float(a[0])\n",
    "        pp.update([[float(a[0]), float(b[0]), float(c[0])]])\n",
    "        i=i+1\n",
    "    except KeyboardInterrupt:\n",
    "        print(\"keyboard interrupt\")\n",
    "        break\n",
    "        \n",
    "pp.finalize()"
   ]
  },
  {
   "cell_type": "code",
   "execution_count": null,
   "id": "354229f9-d083-4353-85b9-13714f2089f3",
   "metadata": {},
   "outputs": [],
   "source": []
  }
 ],
 "metadata": {
  "kernelspec": {
   "display_name": "Python 3 (ipykernel)",
   "language": "python",
   "name": "python3"
  },
  "language_info": {
   "codemirror_mode": {
    "name": "ipython",
    "version": 3
   },
   "file_extension": ".py",
   "mimetype": "text/x-python",
   "name": "python",
   "nbconvert_exporter": "python",
   "pygments_lexer": "ipython3",
   "version": "3.10.12"
  }
 },
 "nbformat": 4,
 "nbformat_minor": 5
}
