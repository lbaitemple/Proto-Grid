{
 "cells": [
  {
   "cell_type": "code",
   "execution_count": 1,
   "id": "a6811d77-bf68-4f19-b4c9-e31959b90925",
   "metadata": {
    "tags": []
   },
   "outputs": [],
   "source": [
    "from serial.tools import list_ports\n",
    "import re"
   ]
  },
  {
   "cell_type": "code",
   "execution_count": 2,
   "id": "0805d0fd-4aac-4907-8413-b37728386c14",
   "metadata": {
    "tags": []
   },
   "outputs": [
    {
     "name": "stdout",
     "output_type": "stream",
     "text": [
      "/dev/cu.usbserial-10\n"
     ]
    }
   ],
   "source": [
    "enmu_ports = enumerate(list_ports.comports())\n",
    "port = []\n",
    "for n, (p, descriptor, hid) in enmu_ports:\n",
    "    #print(p, descriptor, hid)\n",
    "    #print(p)\n",
    "    if re.findall(r\"Ser\", descriptor):\n",
    "        print(p)\n",
    "        port.append(p)\n",
    "\n",
    "m=port[0]"
   ]
  },
  {
   "cell_type": "code",
   "execution_count": 3,
   "id": "b176922a-6b15-4a96-b09a-0080d429c765",
   "metadata": {
    "tags": []
   },
   "outputs": [
    {
     "name": "stdout",
     "output_type": "stream",
     "text": [
      "/dev/cu.usbserial-10\n",
      "['/dev/cu.usbserial-10']\n",
      "super Connected to /dev/cu.usbserial-10 at 9600 baud rate.\n",
      "Disconnected from /dev/cu.usbserial-10.\n",
      "super Connected to /dev/cu.usbserial-10 at 9600 baud rate.\n",
      "fanOn\n",
      "fanOff\n",
      "autoOn\n",
      "autoOff\n",
      "setSpeed>1\n",
      "getKW<1\n",
      "getCarbon\n",
      "getAll<7\n",
      "off\n",
      "eoc\n"
     ]
    }
   ],
   "source": [
    "from revdyn import fan\n",
    "\n",
    "mm=fan(m, 9600)"
   ]
  },
  {
   "cell_type": "code",
   "execution_count": 4,
   "id": "b87d26fc-ab35-4b7b-8cea-4fae4e045c0e",
   "metadata": {
    "tags": []
   },
   "outputs": [
    {
     "name": "stdout",
     "output_type": "stream",
     "text": [
      "super Connected to /dev/cu.usbserial-10 at 9600 baud rate.\n"
     ]
    }
   ],
   "source": [
    "from revdyn import SerialCommander\n",
    "import time\n",
    "\n",
    "for m in port:\n",
    "        serial_commander = SerialCommander(m, 9600)  # Replace with your serial port and baud rate\n",
    "        serial_commander.connect()\n",
    "        time.sleep(2)\n",
    "        serial_commander.send_command(\"*ID?\")\n",
    "        response = serial_commander.read_response()"
   ]
  },
  {
   "cell_type": "code",
   "execution_count": 5,
   "id": "fa6eda81-75cc-4eac-84f8-ca585d85cc31",
   "metadata": {
    "tags": []
   },
   "outputs": [
    {
     "name": "stdout",
     "output_type": "stream",
     "text": [
      "fan\n"
     ]
    }
   ],
   "source": [
    "self.devices.append(response)"
   ]
  },
  {
   "cell_type": "code",
   "execution_count": 1,
   "id": "2b9b94d2-c68b-4205-a1ab-9a2cefba910d",
   "metadata": {
    "tags": []
   },
   "outputs": [
    {
     "name": "stdout",
     "output_type": "stream",
     "text": [
      "/dev/cu.usbserial-10\n",
      "['/dev/cu.usbserial-10']\n",
      "super Connected to /dev/cu.usbserial-10 at 9600 baud rate.\n",
      "Disconnected from /dev/cu.usbserial-10.\n",
      "/dev/cu.usbserial-10\n",
      "super Connected to /dev/cu.usbserial-10 at 9600 baud rate.\n",
      "/dev/cu.usbserial-10\n",
      "['/dev/cu.usbserial-10']\n",
      "super Connected to /dev/cu.usbserial-10 at 9600 baud rate.\n",
      "Disconnected from /dev/cu.usbserial-10.\n",
      "super Connected to /dev/cu.usbserial-10 at 9600 baud rate.\n",
      "fanOn\n",
      "fanOff\n",
      "autoOn\n",
      "autoOff\n",
      "setSpeed>1\n",
      "getKW<1\n",
      "getCarbon\n",
      "getAll<7\n",
      "off\n",
      "eoc\n"
     ]
    }
   ],
   "source": [
    "from revdyn import AllDevice\n",
    "\n",
    "a=AllDevice()\n",
    "mm=a.getAllDevice()"
   ]
  },
  {
   "cell_type": "code",
   "execution_count": 2,
   "id": "63f005eb-c132-4503-a30a-f67e996e8bcf",
   "metadata": {
    "tags": []
   },
   "outputs": [
    {
     "data": {
      "text/plain": [
       "{'fan': <revdyn.allDevice.Device at 0x1032c4040>}"
      ]
     },
     "execution_count": 2,
     "metadata": {},
     "output_type": "execute_result"
    }
   ],
   "source": [
    "mm.\n"
   ]
  },
  {
   "cell_type": "code",
   "execution_count": 6,
   "id": "348da005-a05c-4e11-ad62-415ceead4ccd",
   "metadata": {
    "tags": []
   },
   "outputs": [
    {
     "name": "stdout",
     "output_type": "stream",
     "text": [
      "super Connected to /dev/cu.usbserial-10 at 9600 baud rate.\n",
      "fanOn\n",
      "fanOff\n",
      "autoOn\n",
      "autoOff\n",
      "setSpeed>1\n",
      "getKW<1\n",
      "getCarbon\n",
      "getAll<7\n",
      "off\n",
      "eoc\n"
     ]
    },
    {
     "data": {
      "text/plain": [
       "<.revdyn.fan.fan at 0x103e99e20>"
      ]
     },
     "execution_count": 6,
     "metadata": {},
     "output_type": "execute_result"
    }
   ],
   "source": [
    "klass('/dev/cu.usbserial-10', 9600)"
   ]
  },
  {
   "cell_type": "code",
   "execution_count": null,
   "id": "c2bfb0b0-6c5a-4d9a-94c9-b553ba1213b8",
   "metadata": {},
   "outputs": [],
   "source": []
  }
 ],
 "metadata": {
  "kernelspec": {
   "display_name": "Python 3 (ipykernel)",
   "language": "python",
   "name": "python3"
  },
  "language_info": {
   "codemirror_mode": {
    "name": "ipython",
    "version": 3
   },
   "file_extension": ".py",
   "mimetype": "text/x-python",
   "name": "python",
   "nbconvert_exporter": "python",
   "pygments_lexer": "ipython3",
   "version": "3.8.16"
  }
 },
 "nbformat": 4,
 "nbformat_minor": 5
}
