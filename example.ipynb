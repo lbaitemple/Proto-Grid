{
 "cells": [
  {
   "cell_type": "code",
   "execution_count": 1,
   "id": "2b9b94d2-c68b-4205-a1ab-9a2cefba910d",
   "metadata": {
    "tags": []
   },
   "outputs": [
    {
     "name": "stdout",
     "output_type": "stream",
     "text": [
      "/dev/cu.usbserial-10\n",
      "['/dev/cu.usbserial-10']\n",
      "super Connected to /dev/cu.usbserial-10 at 9600 baud rate.\n",
      "Disconnected from /dev/cu.usbserial-10.\n",
      "/dev/cu.usbserial-10\n",
      "super Connected to /dev/cu.usbserial-10 at 9600 baud rate.\n",
      "/dev/cu.usbserial-10\n",
      "['/dev/cu.usbserial-10']\n",
      "super Connected to /dev/cu.usbserial-10 at 9600 baud rate.\n",
      "Disconnected from /dev/cu.usbserial-10.\n",
      "super Connected to /dev/cu.usbserial-10 at 9600 baud rate.\n",
      "fanOn\n",
      "fanOff\n",
      "autoOn\n",
      "autoOff\n",
      "setSpeed>1\n",
      "getKW<1\n",
      "getCarbon\n",
      "getAll<7\n",
      "off\n",
      "eoc\n"
     ]
    }
   ],
   "source": [
    "from revdyn import AllDevice\n",
    "\n",
    "a=AllDevice()\n",
    "mm=a.getAllDevice()"
   ]
  },
  {
   "cell_type": "code",
   "execution_count": null,
   "id": "c2bfb0b0-6c5a-4d9a-94c9-b553ba1213b8",
   "metadata": {},
   "outputs": [],
   "source": []
  }
 ],
 "metadata": {
  "kernelspec": {
   "display_name": "Python 3 (ipykernel)",
   "language": "python",
   "name": "python3"
  },
  "language_info": {
   "codemirror_mode": {
    "name": "ipython",
    "version": 3
   },
   "file_extension": ".py",
   "mimetype": "text/x-python",
   "name": "python",
   "nbconvert_exporter": "python",
   "pygments_lexer": "ipython3",
   "version": "3.8.16"
  }
 },
 "nbformat": 4,
 "nbformat_minor": 5
}
